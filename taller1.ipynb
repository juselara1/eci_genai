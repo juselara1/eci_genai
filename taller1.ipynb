{
 "cells": [
  {
   "cell_type": "markdown",
   "id": "bbb87c4f",
   "metadata": {},
   "source": [
    "# Taller 1 - Generative AI With Large Language Models\n",
    "---\n",
    "\n",
    "- En este taller se evaluarán los conceptos relacionados a la implementacion y entrenamiento de modelos del lenguaje aproximados\n",
    "con redes neuronales.\n",
    "- Éste taller lo pueden realizar en grupos de máximo dos (2) estudiantes.\n",
    "- Debe completar el taller y entregarlo maximo hasta las **23:59 del 31 de Octubre de 2025**.\n",
    "- El taller resuelto debe ser enviado por medio de [este formulario](https://forms.gle/3paSR9Tu6n9zrj8a7).\n",
    "\n",
    "Comenzamos instalando las librerias necesarias para este taller:"
   ]
  },
  {
   "cell_type": "code",
   "execution_count": null,
   "id": "166a9bc4",
   "metadata": {
    "title": "[code]"
   },
   "outputs": [],
   "source": [
    "!pip install uv\n",
    "!uv pip install transformers[torch] xformers sentencepiece sacremoses datasets tokenizers"
   ]
  },
  {
   "cell_type": "markdown",
   "id": "3b661dcd",
   "metadata": {},
   "source": [
    "Ahora, importamos algunas utilidades necesarias:"
   ]
  },
  {
   "cell_type": "code",
   "execution_count": null,
   "id": "539c142d",
   "metadata": {
    "title": "[code]"
   },
   "outputs": [],
   "source": [
    "from IPython.display import display\n",
    "from datasets import Dataset\n",
    "from torch.nn import Module"
   ]
  },
  {
   "cell_type": "markdown",
   "id": "8ade441d",
   "metadata": {
    "lines_to_next_cell": 2
   },
   "source": [
    "## 1. Carga de Datos\n",
    "---\n",
    "\n",
    "En este caso utilizaremos el conjunto de datos disponible en [éste enlace](https://huggingface.co/datasets/juselara1/mlds7_codedata).\n",
    "\n",
    "Debe utilizar la librería `datasets` para cargar el conjunto de datos. Implemente la función `get_data`:"
   ]
  },
  {
   "cell_type": "code",
   "execution_count": null,
   "id": "1fe61572",
   "metadata": {
    "title": "[code]"
   },
   "outputs": [],
   "source": [
    "def get_data() -> Dataset:\n",
    "    \"\"\"\n",
    "    Implemente esta función para descargar el conjunto de datos especificado utilizando la librería\n",
    "    `datasets`.\n",
    "\n",
    "    :return: Conjunto de datos cargado.\n",
    "    :rtype: Dataset\n",
    "    \"\"\"\n",
    "    ..."
   ]
  },
  {
   "cell_type": "markdown",
   "id": "9796991d",
   "metadata": {},
   "source": [
    "Utilice la siguiente celda para validar que su implementación funciona:"
   ]
  },
  {
   "cell_type": "code",
   "execution_count": null,
   "id": "f1ce8332",
   "metadata": {
    "title": "[code]"
   },
   "outputs": [],
   "source": [
    "data = get_data()\n",
    "display(data)"
   ]
  },
  {
   "cell_type": "markdown",
   "id": "683b5783",
   "metadata": {
    "lines_to_next_cell": 2
   },
   "source": [
    "## 2. Preparación de los Datos\n",
    "---\n",
    "\n",
    "Implemente la función `prepare_data` para transformar el dataset de la siguiente forma:\n",
    "\n",
    "1. Una los campos `instruction` y `output` en un único campo llamado `code`.\n",
    "2. Filtre los documentos que contengan la palabra `python` (no debe importar si esta palabra se encuentra en mayúscula o minúscula)"
   ]
  },
  {
   "cell_type": "code",
   "execution_count": null,
   "id": "cb2648a1",
   "metadata": {
    "title": "[code]"
   },
   "outputs": [],
   "source": [
    "def transform_data(ds: Dataset) -> Dataset:\n",
    "    \"\"\"\n",
    "    Implemente esta función para transformar el conjunto de datos original en un nuevo conjunto de datos con las especificaciones dadas.\n",
    "    El resultado debe ser un nuevo `Dataset`.\n",
    "\n",
    "    :param ds: Dataset original.\n",
    "    :type ds: Dataset\n",
    "    :return: Dataset transformado.\n",
    "    :rtype: Dataset\n",
    "    \"\"\"\n",
    "    ..."
   ]
  },
  {
   "cell_type": "markdown",
   "id": "27e807af",
   "metadata": {},
   "source": [
    "Utilice la siguiente celda para validar que su implementación funciona:"
   ]
  },
  {
   "cell_type": "code",
   "execution_count": null,
   "id": "6c027ebe",
   "metadata": {
    "title": "[code]"
   },
   "outputs": [],
   "source": [
    "transformed_data = transform_data(data)\n",
    "display(transformed_data)"
   ]
  },
  {
   "cell_type": "markdown",
   "id": "7a6d79ec",
   "metadata": {
    "lines_to_next_cell": 2
   },
   "source": [
    "## 3. Tokenización\n",
    "---\n",
    "\n",
    "Implemente la función `tokenize` para obtener una versión tokenizada de los datos. Para esto debe utilizar la librería `tokenizers` y\n",
    "cargar el modelo `Salesforce/codegen-350M-mono`. Tenga en cuenta las siguientes consideraciones:\n",
    "\n",
    "1. Configure una longitud máxima de contexto de 128 tokens.\n",
    "2. Debe obtener un nuevo dataset con el campo `input_ids` el cual contenga los tokens (en su version numérica) como arreglos en `torch`."
   ]
  },
  {
   "cell_type": "code",
   "execution_count": null,
   "id": "c05ae0db",
   "metadata": {
    "title": "[code]"
   },
   "outputs": [],
   "source": [
    "def tokenize(ds: Dataset) -> Dataset:\n",
    "    \"\"\"\n",
    "    Implemente esta función para tokenizar el conjunto de datos en un nuevo conjunto de datos con las especificaciones dadas.\n",
    "    El resultado debe ser un nuevo `Dataset`.\n",
    "\n",
    "    :param ds: Dataset original.\n",
    "    :type ds: Dataset\n",
    "    :return: Dataset transformado.\n",
    "    :rtype: Dataset\n",
    "    \"\"\"\n",
    "    ..."
   ]
  },
  {
   "cell_type": "markdown",
   "id": "059d8da3",
   "metadata": {},
   "source": [
    "Utilice la siguiente celda para validar que su implementación funciona:"
   ]
  },
  {
   "cell_type": "code",
   "execution_count": null,
   "id": "6154755b",
   "metadata": {
    "title": "[code]"
   },
   "outputs": [],
   "source": [
    "tokenized_data = tokenize(transformed_data)\n",
    "display(tokenized_data)"
   ]
  },
  {
   "cell_type": "markdown",
   "id": "2079ed68",
   "metadata": {
    "lines_to_next_cell": 2
   },
   "source": [
    "## 4. Modelo Pre-Entrenado\n",
    "---\n",
    "\n",
    "Implemente la función `load_model` para cargar el modelo `Salesforce/codegen-350M-mono` utilizando la librería `transformers`.\n",
    "\n",
    "- Recuerde especificar el tamaño del contexto al momento de crear el modelo.\n",
    "- El modelo lo debe cargar dentro de la GPU."
   ]
  },
  {
   "cell_type": "code",
   "execution_count": null,
   "id": "d87237cb",
   "metadata": {
    "title": "[code]"
   },
   "outputs": [],
   "source": [
    "def load_model() -> Module:\n",
    "    \"\"\"\n",
    "    Implemente esta función para cargar el modelo pre-entrenado usando `transformers` y `torch`.\n",
    "\n",
    "    :return: Modelo cargado como un modulo de `torch`.\n",
    "    :rtype: Module\n",
    "    \"\"\"\n",
    "    ..."
   ]
  },
  {
   "cell_type": "markdown",
   "id": "9bf8a880",
   "metadata": {},
   "source": [
    "Utilice la siguiente celda para validar que su implementación funciona:"
   ]
  },
  {
   "cell_type": "code",
   "execution_count": null,
   "id": "69b5e682",
   "metadata": {
    "lines_to_next_cell": 1,
    "title": "[code]"
   },
   "outputs": [],
   "source": [
    "model = load_model()\n",
    "display(model)"
   ]
  },
  {
   "cell_type": "markdown",
   "id": "4d833e55",
   "metadata": {},
   "source": [
    "## 5. Entrenamiento.\n",
    "---\n",
    "\n",
    "Implemente la función `train_model` para entrenar el modelo con los datos dados. Experimente con los hiper-parámetros y utilice una precisión\n",
    "numérica de 16bits. Recuerde guardar el modelo en una carpeta específica para su posterior uso."
   ]
  },
  {
   "cell_type": "code",
   "execution_count": null,
   "id": "9df4c14a",
   "metadata": {
    "lines_to_next_cell": 1,
    "title": "[code]"
   },
   "outputs": [],
   "source": [
    "def train_model(model: Module, data: Dataset) -> None:\n",
    "    \"\"\"\n",
    "    Implemente esta función para entrenar el modelo con los datos preparados.\n",
    "\n",
    "    :param model: Modelo a entrenar.\n",
    "    :type model: Module\n",
    "    :param data: Conjunto de datos a usar.\n",
    "    :type data: Dataset.\n",
    "    \"\"\"\n",
    "    ..."
   ]
  },
  {
   "cell_type": "markdown",
   "id": "3f1960ef",
   "metadata": {},
   "source": [
    "Utilice la siguiente celda para validar que su implementación funciona:"
   ]
  },
  {
   "cell_type": "code",
   "execution_count": null,
   "id": "e45b9423",
   "metadata": {
    "lines_to_next_cell": 1,
    "title": "[code]"
   },
   "outputs": [],
   "source": [
    "train_model(model, data)"
   ]
  },
  {
   "cell_type": "markdown",
   "id": "e71d64d5",
   "metadata": {},
   "source": [
    "## 6. Implementación\n",
    "---\n",
    "\n",
    "Utilice la librería `transformers` para cargar el modelo entrenado como un `pipeline. Implemente la función `generate`\n",
    "para generar texto a partir de un texto base y del modelo entrenado."
   ]
  },
  {
   "cell_type": "code",
   "execution_count": null,
   "id": "e6f1f5c7",
   "metadata": {
    "lines_to_next_cell": 1,
    "title": "[code]"
   },
   "outputs": [],
   "source": [
    "def generate(text: str, model_path: str) -> str:\n",
    "    \"\"\"\n",
    "    Implemente esta función para generar texto.\n",
    "\n",
    "    :param text: Texto base para iniciar la generación.\n",
    "    :type text: str\n",
    "    :param model_path: Ruta del modelo a cargar.\n",
    "    :type model_path: str\n",
    "    :return: Texto generado.\n",
    "    :rtype: str\n",
    "    \"\"\"\n",
    "    ..."
   ]
  },
  {
   "cell_type": "markdown",
   "id": "d73f973e",
   "metadata": {},
   "source": [
    "Utilice la siguiente celda para validar que su implementación funciona.\n",
    "\n",
    "> **Nota**: cambie el model path de acuerdo a la ruta que usó para guardar el modelo."
   ]
  },
  {
   "cell_type": "code",
   "execution_count": null,
   "id": "c3603533",
   "metadata": {
    "title": "[code]"
   },
   "outputs": [],
   "source": [
    "print(generate(\"Write a Python function to convert a given string to lowercase.\\n\", \"./model/checkpoint-585\"))"
   ]
  }
 ],
 "metadata": {
  "jupytext": {
   "cell_metadata_filter": "title,-all",
   "main_language": "python",
   "notebook_metadata_filter": "-all"
  }
 },
 "nbformat": 4,
 "nbformat_minor": 5
}
